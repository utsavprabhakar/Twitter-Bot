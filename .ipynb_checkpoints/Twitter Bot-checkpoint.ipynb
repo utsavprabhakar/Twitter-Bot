{
 "cells": [
  {
   "cell_type": "code",
   "execution_count": 4,
   "metadata": {},
   "outputs": [],
   "source": [
    "from selenium import webdriver\n",
    "from selenium.webdriver.common.keys import Keys\n",
    "import time"
   ]
  },
  {
   "cell_type": "code",
   "execution_count": 18,
   "metadata": {},
   "outputs": [],
   "source": [
    "class TwitterBot:\n",
    "    def __init__(self,username,password):\n",
    "        self.username = username\n",
    "        self.password = password\n",
    "        self.bot = webdriver.Firefox()\n",
    "        \n",
    "    def login(self):\n",
    "        bot = self.bot\n",
    "        bot.get('https://twitter.com/login')\n",
    "        time.sleep(3)\n",
    "        password = bot.find_element_by_class_name('js-password-field')\n",
    "        email = bot.find_element_by_class_name('js-username-field')\n",
    "        email.clear()\n",
    "        password.clear()\n",
    "        email.send_keys(self.username)\n",
    "        password.send_keys(self.password)\n",
    "        password.send_keys(Keys.RETURN)\n",
    "        time.sleep(3)\n",
    "        \n",
    "    def like_tweet(self,hashtag):\n",
    "        bot = self.bot\n",
    "        bot.get('https://twitter.com/search?q='+hashtag+'&src=typd')\n",
    "        time.sleep(3)\n",
    "        for i in range(1,3):\n",
    "            bot.execute_script('window.scrollTo(0,document.body.scrollHeight)')\n",
    "            time.sleep(2)\n",
    "            tweets = bot.find_elements_by_class_name('tweet')\n",
    "            links = [elem.get_attribute('data-permalink-path') for elem in tweets]\n",
    "            for link in links:\n",
    "                bot.get('https://twitter.com'+link)\n",
    "                try:\n",
    "                    bot.find_element_by_class_name('HeartAnimation').click()\n",
    "                    time.sleep(5)\n",
    "                except Exception as ex:\n",
    "                    time.sleep(60)"
   ]
  },
  {
   "cell_type": "code",
   "execution_count": null,
   "metadata": {},
   "outputs": [],
   "source": [
    "utsav = TwitterBot('asdf', 'asdf')  #insert username and password of twitter.\n",
    "utsav.login()\n",
    "utsav.like_tweet('football')"
   ]
  },
  {
   "cell_type": "code",
   "execution_count": null,
   "metadata": {},
   "outputs": [],
   "source": []
  }
 ],
 "metadata": {
  "kernelspec": {
   "display_name": "Python 3",
   "language": "python",
   "name": "python3"
  },
  "language_info": {
   "codemirror_mode": {
    "name": "ipython",
    "version": 3
   },
   "file_extension": ".py",
   "mimetype": "text/x-python",
   "name": "python",
   "nbconvert_exporter": "python",
   "pygments_lexer": "ipython3",
   "version": "3.6.8"
  }
 },
 "nbformat": 4,
 "nbformat_minor": 2
}
